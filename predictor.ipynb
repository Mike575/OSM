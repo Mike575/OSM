{
 "cells": [
  {
   "cell_type": "markdown",
   "metadata": {},
   "source": [
    "# Aim of this Notebook\n",
    "\n",
    "### Predict pIC50 of a molecular set of compounds that could act as therapeutic substances to Malaria using Morgan fingerprints as a descriptor and a few ML models"
   ]
  },
  {
   "cell_type": "code",
   "execution_count": 1,
   "metadata": {},
   "outputs": [],
   "source": [
    "# RDKit packages\n",
    "from rdkit import Chem, DataStructs\n",
    "from rdkit.Chem import AllChem\n",
    "from rdkit.Chem import PandasTools, Draw\n",
    "from rdkit.Chem.Draw import IPythonConsole\n",
    "from rdkit.Chem.Descriptors import _descList\n",
    "from rdkit.Chem import Descriptors\n",
    "from rdkit.ML.Descriptors import MoleculeDescriptors\n",
    "#from rdkit.Chem import rdMolDescriptors as rdMD\n",
    "\n",
    "# RDKit descriptors\n",
    "from rdkit.Chem.EState import Fingerprinter\n",
    "from rdkit.Chem.rdmolops import RDKFingerprint\n",
    "from rdkit.Avalon.pyAvalonTools import GetAvalonFP\n",
    "from rdkit.Avalon import pyAvalonTools\n",
    "from rdkit.Chem.rdMolDescriptors import GetMorganFingerprint, GetHashedAtomPairFingerprintAsBitVect\n",
    "from rdkit.Chem.rdMolDescriptors import GetHashedTopologicalTorsionFingerprintAsBitVect\n",
    "from rdkit.Chem.AtomPairs.Sheridan import GetBPFingerprint\n",
    "from rdkit.Chem.EState.Fingerprinter import FingerprintMol\n",
    "from rdkit.Avalon.pyAvalonTools import GetAvalonFP \n",
    "from rdkit.Chem.AllChem import  GetMorganFingerprintAsBitVect, GetErGFingerprint\n",
    "from rdkit.DataStructs.cDataStructs import ConvertToNumpyArray\n",
    "import rdkit.DataStructs.cDataStructs\n",
    "\n",
    "import pandas as pd\n",
    "import numpy as np\n",
    "import math\n",
    "# Random number is 42!\n",
    "np.random.seed(42)\n",
    "#prng = np.random.RandomState(42) \n",
    "\n",
    "import pickle\n",
    "import os\n",
    "import math\n",
    "from matplotlib import cm\n",
    "\n",
    "from sklearn.metrics import mean_squared_error, r2_score, accuracy_score, explained_variance_score\n",
    "from scipy.stats import spearmanr, pearsonr\n",
    "\n",
    "from sklearn.linear_model import Ridge, BayesianRidge, LinearRegression\n",
    "from sklearn.naive_bayes import GaussianNB\n",
    "from sklearn.kernel_ridge import KernelRidge\n",
    "from sklearn.svm import SVR\n",
    "from sklearn.neighbors import KNeighborsRegressor\n",
    "from sklearn.gaussian_process import GaussianProcessRegressor\n",
    "from sklearn.neural_network import MLPRegressor\n",
    "from sklearn.ensemble import GradientBoostingRegressor, RandomForestRegressor, RandomForestClassifier\n",
    "from sklearn.model_selection import GridSearchCV, cross_val_score, train_test_split\n",
    "from sklearn.preprocessing import StandardScaler\n",
    "from sklearn import model_selection\n",
    "\n",
    "#from xgboost import XGBRegressor\n",
    "#import lightgbm as lgb\n",
    "\n",
    "#from keras import regularizers\n",
    "#from keras.models import Sequential\n",
    "#from keras.layers import Dense, Activation, Dropout\n",
    "\n",
    "import warnings\n",
    "warnings.filterwarnings('ignore', '.*do not.*')"
   ]
  },
  {
   "cell_type": "markdown",
   "metadata": {},
   "source": [
    "Data consists of https://en.wikipedia.org/wiki/Simplified_molecular-input_line-entry_system strings, which encode molecular graphs into a string of characters, and experimentally determined solubility values [1]."
   ]
  },
  {
   "cell_type": "code",
   "execution_count": 2,
   "metadata": {},
   "outputs": [
    {
     "name": "stdout",
     "output_type": "stream",
     "text": [
      "The data set contains 369 compounds\n"
     ]
    },
    {
     "name": "stderr",
     "output_type": "stream",
     "text": [
      "RDKit ERROR: [15:01:10] Explicit valence for atom # 21 C, 6, is greater than permitted\n",
      "RDKit ERROR: [15:01:10] Explicit valence for atom # 21 C, 5, is greater than permitted\n",
      "RDKit ERROR: [15:01:10] Explicit valence for atom # 21 C, 6, is greater than permitted\n"
     ]
    }
   ],
   "source": [
    "#Read data\n",
    "\n",
    "data = pd.read_csv('Malaria Molecules 2019_09_09_one_hot_encoding.tsv', sep='\\t', header=0)\n",
    "data['ROMol'] = data['Canonical_Smiles'].apply(Chem.MolFromSmiles)\n",
    "\n",
    "# Remove molecules that could not be parsed from SMILES\n",
    "data = data[~data.ROMol.isnull()]\n",
    "\n",
    "def calc_pIC50(x):\n",
    "    return -np.log10(x*(10**-6))\n",
    "        \n",
    "#data.rename(columns={'LOGD_MEAN': 'logD'}, inplace=True)\n",
    "data['pIC50'] = calc_pIC50(data['Value'])\n",
    "\n",
    "# Target values\n",
    "y = data['pIC50'].values\n",
    "\n",
    "print(f\"The data set contains {len(data)} compounds\")"
   ]
  },
  {
   "cell_type": "markdown",
   "metadata": {},
   "source": [
    "----\n",
    "Dataset contains 1164 drug-like compounds.\n",
    "Let's __visualize__ the _physchem_ properties of the training set's compounds!"
   ]
  },
  {
   "cell_type": "code",
   "execution_count": 3,
   "metadata": {},
   "outputs": [
    {
     "data": {
      "text/html": [
       "<div>\n",
       "<style scoped>\n",
       "    .dataframe tbody tr th:only-of-type {\n",
       "        vertical-align: middle;\n",
       "    }\n",
       "\n",
       "    .dataframe tbody tr th {\n",
       "        vertical-align: top;\n",
       "    }\n",
       "\n",
       "    .dataframe thead th {\n",
       "        text-align: right;\n",
       "    }\n",
       "</style>\n",
       "<table border=\"1\" class=\"dataframe\">\n",
       "  <thead>\n",
       "    <tr style=\"text-align: right;\">\n",
       "      <th></th>\n",
       "      <th>Value</th>\n",
       "      <th>PfaI EC50 (Inh)</th>\n",
       "      <th>Pfal IC50 (GSK)</th>\n",
       "      <th>Pfal IC50 (Syngene)</th>\n",
       "      <th>Pfal IC50 (Dundee)</th>\n",
       "      <th>Pfal IC50 (Avery)</th>\n",
       "      <th>Pfal (K1) IC50 (Avery)</th>\n",
       "      <th>Pfal IC50 (Ralph)</th>\n",
       "      <th>Pfal IC50 (Guy)</th>\n",
       "      <th>Pfal (K1) IC50 (Guy)</th>\n",
       "      <th>...</th>\n",
       "      <th>ION_0</th>\n",
       "      <th>ION_1</th>\n",
       "      <th>ION_0.5</th>\n",
       "      <th>series_1</th>\n",
       "      <th>series_2</th>\n",
       "      <th>series_3</th>\n",
       "      <th>series_4</th>\n",
       "      <th>series_not4</th>\n",
       "      <th>series_TB</th>\n",
       "      <th>pIC50</th>\n",
       "    </tr>\n",
       "  </thead>\n",
       "  <tbody>\n",
       "    <tr>\n",
       "      <th>count</th>\n",
       "      <td>369.000000</td>\n",
       "      <td>369.0</td>\n",
       "      <td>369.000000</td>\n",
       "      <td>369.000000</td>\n",
       "      <td>369.000000</td>\n",
       "      <td>369.000000</td>\n",
       "      <td>369.000000</td>\n",
       "      <td>369.000000</td>\n",
       "      <td>369.000000</td>\n",
       "      <td>369.000000</td>\n",
       "      <td>...</td>\n",
       "      <td>369.000000</td>\n",
       "      <td>369.000000</td>\n",
       "      <td>369.000000</td>\n",
       "      <td>369.000000</td>\n",
       "      <td>369.000000</td>\n",
       "      <td>369.000000</td>\n",
       "      <td>369.000000</td>\n",
       "      <td>369.000000</td>\n",
       "      <td>369.000000</td>\n",
       "      <td>369.000000</td>\n",
       "    </tr>\n",
       "    <tr>\n",
       "      <th>mean</th>\n",
       "      <td>11.181782</td>\n",
       "      <td>0.0</td>\n",
       "      <td>0.108401</td>\n",
       "      <td>0.146341</td>\n",
       "      <td>0.487805</td>\n",
       "      <td>0.140921</td>\n",
       "      <td>0.010840</td>\n",
       "      <td>0.048780</td>\n",
       "      <td>0.010840</td>\n",
       "      <td>0.010840</td>\n",
       "      <td>...</td>\n",
       "      <td>0.086721</td>\n",
       "      <td>0.525745</td>\n",
       "      <td>0.013550</td>\n",
       "      <td>0.260163</td>\n",
       "      <td>0.002710</td>\n",
       "      <td>0.127371</td>\n",
       "      <td>0.588076</td>\n",
       "      <td>0.018970</td>\n",
       "      <td>0.002710</td>\n",
       "      <td>5.697095</td>\n",
       "    </tr>\n",
       "    <tr>\n",
       "      <th>std</th>\n",
       "      <td>15.078028</td>\n",
       "      <td>0.0</td>\n",
       "      <td>0.311308</td>\n",
       "      <td>0.353928</td>\n",
       "      <td>0.500530</td>\n",
       "      <td>0.348413</td>\n",
       "      <td>0.103691</td>\n",
       "      <td>0.215701</td>\n",
       "      <td>0.103691</td>\n",
       "      <td>0.103691</td>\n",
       "      <td>...</td>\n",
       "      <td>0.281808</td>\n",
       "      <td>0.500015</td>\n",
       "      <td>0.115771</td>\n",
       "      <td>0.439319</td>\n",
       "      <td>0.052058</td>\n",
       "      <td>0.333841</td>\n",
       "      <td>0.492850</td>\n",
       "      <td>0.136605</td>\n",
       "      <td>0.052058</td>\n",
       "      <td>1.044178</td>\n",
       "    </tr>\n",
       "    <tr>\n",
       "      <th>min</th>\n",
       "      <td>0.001000</td>\n",
       "      <td>0.0</td>\n",
       "      <td>0.000000</td>\n",
       "      <td>0.000000</td>\n",
       "      <td>0.000000</td>\n",
       "      <td>0.000000</td>\n",
       "      <td>0.000000</td>\n",
       "      <td>0.000000</td>\n",
       "      <td>0.000000</td>\n",
       "      <td>0.000000</td>\n",
       "      <td>...</td>\n",
       "      <td>0.000000</td>\n",
       "      <td>0.000000</td>\n",
       "      <td>0.000000</td>\n",
       "      <td>0.000000</td>\n",
       "      <td>0.000000</td>\n",
       "      <td>0.000000</td>\n",
       "      <td>0.000000</td>\n",
       "      <td>0.000000</td>\n",
       "      <td>0.000000</td>\n",
       "      <td>4.301030</td>\n",
       "    </tr>\n",
       "    <tr>\n",
       "      <th>25%</th>\n",
       "      <td>0.309000</td>\n",
       "      <td>0.0</td>\n",
       "      <td>0.000000</td>\n",
       "      <td>0.000000</td>\n",
       "      <td>0.000000</td>\n",
       "      <td>0.000000</td>\n",
       "      <td>0.000000</td>\n",
       "      <td>0.000000</td>\n",
       "      <td>0.000000</td>\n",
       "      <td>0.000000</td>\n",
       "      <td>...</td>\n",
       "      <td>0.000000</td>\n",
       "      <td>0.000000</td>\n",
       "      <td>0.000000</td>\n",
       "      <td>0.000000</td>\n",
       "      <td>0.000000</td>\n",
       "      <td>0.000000</td>\n",
       "      <td>0.000000</td>\n",
       "      <td>0.000000</td>\n",
       "      <td>0.000000</td>\n",
       "      <td>4.602060</td>\n",
       "    </tr>\n",
       "    <tr>\n",
       "      <th>50%</th>\n",
       "      <td>2.150000</td>\n",
       "      <td>0.0</td>\n",
       "      <td>0.000000</td>\n",
       "      <td>0.000000</td>\n",
       "      <td>0.000000</td>\n",
       "      <td>0.000000</td>\n",
       "      <td>0.000000</td>\n",
       "      <td>0.000000</td>\n",
       "      <td>0.000000</td>\n",
       "      <td>0.000000</td>\n",
       "      <td>...</td>\n",
       "      <td>0.000000</td>\n",
       "      <td>1.000000</td>\n",
       "      <td>0.000000</td>\n",
       "      <td>0.000000</td>\n",
       "      <td>0.000000</td>\n",
       "      <td>0.000000</td>\n",
       "      <td>1.000000</td>\n",
       "      <td>0.000000</td>\n",
       "      <td>0.000000</td>\n",
       "      <td>5.667562</td>\n",
       "    </tr>\n",
       "    <tr>\n",
       "      <th>75%</th>\n",
       "      <td>25.000000</td>\n",
       "      <td>0.0</td>\n",
       "      <td>0.000000</td>\n",
       "      <td>0.000000</td>\n",
       "      <td>1.000000</td>\n",
       "      <td>0.000000</td>\n",
       "      <td>0.000000</td>\n",
       "      <td>0.000000</td>\n",
       "      <td>0.000000</td>\n",
       "      <td>0.000000</td>\n",
       "      <td>...</td>\n",
       "      <td>0.000000</td>\n",
       "      <td>1.000000</td>\n",
       "      <td>0.000000</td>\n",
       "      <td>1.000000</td>\n",
       "      <td>0.000000</td>\n",
       "      <td>0.000000</td>\n",
       "      <td>1.000000</td>\n",
       "      <td>0.000000</td>\n",
       "      <td>0.000000</td>\n",
       "      <td>6.510042</td>\n",
       "    </tr>\n",
       "    <tr>\n",
       "      <th>max</th>\n",
       "      <td>50.000000</td>\n",
       "      <td>0.0</td>\n",
       "      <td>1.000000</td>\n",
       "      <td>1.000000</td>\n",
       "      <td>1.000000</td>\n",
       "      <td>1.000000</td>\n",
       "      <td>1.000000</td>\n",
       "      <td>1.000000</td>\n",
       "      <td>1.000000</td>\n",
       "      <td>1.000000</td>\n",
       "      <td>...</td>\n",
       "      <td>1.000000</td>\n",
       "      <td>1.000000</td>\n",
       "      <td>1.000000</td>\n",
       "      <td>1.000000</td>\n",
       "      <td>1.000000</td>\n",
       "      <td>1.000000</td>\n",
       "      <td>1.000000</td>\n",
       "      <td>1.000000</td>\n",
       "      <td>1.000000</td>\n",
       "      <td>9.000000</td>\n",
       "    </tr>\n",
       "  </tbody>\n",
       "</table>\n",
       "<p>8 rows × 26 columns</p>\n",
       "</div>"
      ],
      "text/plain": [
       "            Value  PfaI EC50 (Inh)  Pfal IC50 (GSK)  Pfal IC50 (Syngene)  Pfal IC50 (Dundee)  Pfal IC50 (Avery)  Pfal (K1) IC50 (Avery)  Pfal IC50 (Ralph)  Pfal IC50 (Guy)  Pfal (K1) IC50 (Guy)  ...       ION_0       ION_1     ION_0.5    series_1    series_2    series_3    series_4  series_not4   series_TB       pIC50\n",
       "count  369.000000            369.0       369.000000           369.000000          369.000000         369.000000              369.000000         369.000000       369.000000            369.000000  ...  369.000000  369.000000  369.000000  369.000000  369.000000  369.000000  369.000000   369.000000  369.000000  369.000000\n",
       "mean    11.181782              0.0         0.108401             0.146341            0.487805           0.140921                0.010840           0.048780         0.010840              0.010840  ...    0.086721    0.525745    0.013550    0.260163    0.002710    0.127371    0.588076     0.018970    0.002710    5.697095\n",
       "std     15.078028              0.0         0.311308             0.353928            0.500530           0.348413                0.103691           0.215701         0.103691              0.103691  ...    0.281808    0.500015    0.115771    0.439319    0.052058    0.333841    0.492850     0.136605    0.052058    1.044178\n",
       "min      0.001000              0.0         0.000000             0.000000            0.000000           0.000000                0.000000           0.000000         0.000000              0.000000  ...    0.000000    0.000000    0.000000    0.000000    0.000000    0.000000    0.000000     0.000000    0.000000    4.301030\n",
       "25%      0.309000              0.0         0.000000             0.000000            0.000000           0.000000                0.000000           0.000000         0.000000              0.000000  ...    0.000000    0.000000    0.000000    0.000000    0.000000    0.000000    0.000000     0.000000    0.000000    4.602060\n",
       "50%      2.150000              0.0         0.000000             0.000000            0.000000           0.000000                0.000000           0.000000         0.000000              0.000000  ...    0.000000    1.000000    0.000000    0.000000    0.000000    0.000000    1.000000     0.000000    0.000000    5.667562\n",
       "75%     25.000000              0.0         0.000000             0.000000            1.000000           0.000000                0.000000           0.000000         0.000000              0.000000  ...    0.000000    1.000000    0.000000    1.000000    0.000000    0.000000    1.000000     0.000000    0.000000    6.510042\n",
       "max     50.000000              0.0         1.000000             1.000000            1.000000           1.000000                1.000000           1.000000         1.000000              1.000000  ...    1.000000    1.000000    1.000000    1.000000    1.000000    1.000000    1.000000     1.000000    1.000000    9.000000\n",
       "\n",
       "[8 rows x 26 columns]"
      ]
     },
     "execution_count": 3,
     "metadata": {},
     "output_type": "execute_result"
    }
   ],
   "source": [
    "data.describe()"
   ]
  },
  {
   "cell_type": "markdown",
   "metadata": {},
   "source": [
    "## Training dataset's description\n",
    "\n",
    "The training dataset contains 369 organic compounds\n",
    "\n",
    "----\n"
   ]
  },
  {
   "cell_type": "code",
   "execution_count": 5,
   "metadata": {},
   "outputs": [
    {
     "name": "stdout",
     "output_type": "stream",
     "text": [
      "Converting Morgan fingerprints\n"
     ]
    }
   ],
   "source": [
    "print(\"Converting Morgan fingerprints\")\n",
    "\n",
    "# Morgan fingerprints, length 1024 bits\n",
    "def Morgan_fingerprint(mol):\n",
    "    fp = np.zeros((1,))\n",
    "    ConvertToNumpyArray(GetMorganFingerprintAsBitVect(mol, 2, nBits = 1024), fp)\n",
    "    return fp\n",
    "\n",
    "data['fp_Morgan'] = data['ROMol'].apply(Morgan_fingerprint)"
   ]
  },
  {
   "cell_type": "markdown",
   "metadata": {},
   "source": [
    "I will use the Morgan fingerprint, as they result the lowest mean absolute error regression loss (most of the times...). \n",
    "A new data matrix *X* is created and then fed into machine learning models."
   ]
  },
  {
   "cell_type": "code",
   "execution_count": 6,
   "metadata": {},
   "outputs": [
    {
     "name": "stdout",
     "output_type": "stream",
     "text": [
      "(369, 1024)\n",
      "(369, 1024)\n"
     ]
    }
   ],
   "source": [
    "st = StandardScaler()\n",
    "X = np.array(list(data['fp_Morgan']))\n",
    "\n",
    "X_st = st.fit_transform(X)\n",
    "\n",
    "print(X.shape)\n",
    "print(X_st.shape)"
   ]
  },
  {
   "cell_type": "markdown",
   "metadata": {},
   "source": [
    "### ML Gym area\n",
    "Applying grid search to explore the hyperparameters of the RandomForestRegressor, LightGBMRegressor, GaussianProcessRegressor, and Kernel Ridge models in sklearn."
   ]
  },
  {
   "cell_type": "code",
   "execution_count": 7,
   "metadata": {},
   "outputs": [
    {
     "name": "stderr",
     "output_type": "stream",
     "text": [
      "/Users/btatsis/anaconda3/envs/comptoir/lib/python3.6/site-packages/sklearn/model_selection/_search.py:813: DeprecationWarning: The default of the `iid` parameter will change from True to False in version 0.22 and will be removed in 0.24. This will change numeric results when test-set sizes are unequal.\n",
      "  DeprecationWarning)\n"
     ]
    },
    {
     "name": "stdout",
     "output_type": "stream",
     "text": [
      "Best Random Forest model\n",
      "Best parameters found by grid search are: {'n_estimators': 112}\n",
      "Best score: 0.5408733741655531\n"
     ]
    }
   ],
   "source": [
    "RFmodel = GridSearchCV(RandomForestRegressor(), cv=20,\n",
    "                       param_grid={\"n_estimators\": np.linspace(10, 200, 25).astype('int')},\n",
    "                       scoring='neg_mean_absolute_error', n_jobs=-1)\n",
    "\n",
    "RFmodel = RFmodel.fit(X, y)\n",
    "Best_RandomForestRegressor = RFmodel.best_estimator_\n",
    "\n",
    "print(\"Best Random Forest model\")\n",
    "print('Best parameters found by grid search are:', RFmodel.best_params_)\n",
    "print('Best score:', -1*RFmodel.best_score_)"
   ]
  },
  {
   "cell_type": "code",
   "execution_count": 8,
   "metadata": {},
   "outputs": [
    {
     "name": "stdout",
     "output_type": "stream",
     "text": [
      "Best Gaussian Process model\n",
      "Best parameters found by grid search are: {'alpha': 1.4873521072935117e-15}\n",
      "Best score: 0.8977927768228827\n"
     ]
    },
    {
     "name": "stderr",
     "output_type": "stream",
     "text": [
      "/Users/btatsis/anaconda3/envs/comptoir/lib/python3.6/site-packages/sklearn/model_selection/_search.py:813: DeprecationWarning: The default of the `iid` parameter will change from True to False in version 0.22 and will be removed in 0.24. This will change numeric results when test-set sizes are unequal.\n",
      "  DeprecationWarning)\n"
     ]
    }
   ],
   "source": [
    "GPmodel = GridSearchCV(GaussianProcessRegressor(normalize_y=True), cv=20,\n",
    "                       param_grid={\"alpha\": np.logspace(-15, -10, 30)}, \n",
    "                       scoring='neg_mean_absolute_error', n_jobs=-1)\n",
    "\n",
    "GPmodel = GPmodel.fit(X, y)\n",
    "Best_GaussianProcessRegressor = GPmodel.best_estimator_\n",
    "\n",
    "print(\"Best Gaussian Process model\")\n",
    "print('Best parameters found by grid search are:', GPmodel.best_params_)\n",
    "print('Best score:', -1*GPmodel.best_score_)"
   ]
  },
  {
   "cell_type": "code",
   "execution_count": 9,
   "metadata": {},
   "outputs": [
    {
     "name": "stdout",
     "output_type": "stream",
     "text": [
      "Best Kernel Ridge model\n",
      "Best parameters found by grid search are: {'alpha': 1.2915496650148826e-09, 'gamma': 4.641588833612773e-11, 'kernel': 'laplacian'}\n",
      "Best score for Kernel Ridge model:  0.565874588097026\n"
     ]
    },
    {
     "name": "stderr",
     "output_type": "stream",
     "text": [
      "/Users/btatsis/anaconda3/envs/comptoir/lib/python3.6/site-packages/sklearn/model_selection/_search.py:813: DeprecationWarning: The default of the `iid` parameter will change from True to False in version 0.22 and will be removed in 0.24. This will change numeric results when test-set sizes are unequal.\n",
      "  DeprecationWarning)\n"
     ]
    }
   ],
   "source": [
    "KRmodel = GridSearchCV(KernelRidge(), cv=20,\n",
    "                       param_grid={\"alpha\": np.logspace(-10, -5, 10),\n",
    "                                   \"gamma\": np.logspace(-12, -9, 10), \"kernel\" : ['laplacian', 'rbf']}, \n",
    "                       scoring='neg_mean_absolute_error', n_jobs=-1)\n",
    "\n",
    "KRmodel = KRmodel.fit(X, y)\n",
    "Best_KernelRidge = KRmodel.best_estimator_\n",
    "\n",
    "print(\"Best Kernel Ridge model\")\n",
    "print('Best parameters found by grid search are:', KRmodel.best_params_)\n",
    "print('Best score for Kernel Ridge model: ', -1*KRmodel.best_score_)"
   ]
  },
  {
   "cell_type": "markdown",
   "metadata": {},
   "source": [
    "## Machine Learning models\n",
    "*Support Vector Regression* will be used as benchmark model and the following machine learning models will be tested:"
   ]
  },
  {
   "cell_type": "code",
   "execution_count": 10,
   "metadata": {},
   "outputs": [],
   "source": [
    "ml_models = {\n",
    "            #'Linear Regression': LinearRegression(),\n",
    "            'Kernel Ridge Regression': Best_KernelRidge,\n",
    "            'Guassian Process Regressor': Best_GaussianProcessRegressor,\n",
    "            'Support Vector Regression': SVR(gamma='auto', C=1.0, epsilon=0.2), \n",
    "            'Gradient Boosted Trees': GradientBoostingRegressor(n_estimators=100),\n",
    "            'Random forest': Best_RandomForestRegressor,\n",
    "            }"
   ]
  },
  {
   "cell_type": "markdown",
   "metadata": {},
   "source": [
    "The following plotting function will be employed to visualize the performance of the machine learning models.\n",
    "This matplotlib function got so complicated! Is there another way to plot the data?"
   ]
  },
  {
   "cell_type": "code",
   "execution_count": 23,
   "metadata": {},
   "outputs": [],
   "source": [
    "import matplotlib.pyplot as plt\n",
    "plt.style.use('ggplot')\n",
    "%matplotlib inline \n",
    "\n",
    "def plot_results(y_pred_train, y_pred_test, y_train, y_test, y_max, y_min, title='', title1='', figsize=(8,6), fontsize=18):   \n",
    "    \n",
    "    font = {'family': 'monospace',\n",
    "        'color':  'darkblue',\n",
    "        'weight': 'normal',\n",
    "        'size': fontsize,\n",
    "        }\n",
    "    \n",
    "    plt.clf()\n",
    "    plt.figure(figsize=figsize)\n",
    "    plt.ylim(y_min - 0.15, y_max + 0.25)\n",
    "    plt.xlim(y_min - 0.15, y_max + 0.25)\n",
    "   \n",
    "    #plt.ylim(y_min-1, y_max+1)\n",
    "    #plt.xlim(y_min-1, y_max+1)\n",
    "    plt.tick_params(axis='both', which='major', labelsize=fontsize-2)\n",
    "    plt.tick_params(axis='both', which='minor', labelsize=fontsize-3)\n",
    "    plt.scatter(y_train, y_pred_train, label = 'validation set', c='black', marker='o', alpha = 0.6)\n",
    "    #plt.title(title, fontdict=font)\n",
    "    plt.title(title, fontsize=fontsize+2)\n",
    "    plt.xlabel('experimental pIC50', fontsize=fontsize+1)\n",
    "    plt.ylabel('predicted pIC50', fontsize=fontsize+1)\n",
    "    #plt.text(y_min+5, y_max, title2, ha='center', va='center', fontdict=font)\n",
    "    plt.scatter(y_test, y_pred_test, c='red', label='test set', marker='x')\n",
    "    # diagonal line\n",
    "    plt.plot([y_min, y_max], [y_min, y_max], ls=\"--\", c=\".3\", alpha=0.6)\n",
    "    plt.legend(loc=4, fontsize=fontsize-2)\n",
    "    \n",
    "    plt.savefig(title1 + '.png', bbox_inches='tight')\n",
    "    plt.show()"
   ]
  },
  {
   "cell_type": "markdown",
   "metadata": {},
   "source": [
    "### Let's do some ML!"
   ]
  },
  {
   "cell_type": "code",
   "execution_count": 12,
   "metadata": {},
   "outputs": [
    {
     "name": "stdout",
     "output_type": "stream",
     "text": [
      "Running Kernel Ridge Regression ...\n",
      "Running Guassian Process Regressor ...\n",
      "Running Support Vector Regression ...\n",
      "Running Gradient Boosted Trees ...\n",
      "Running Random forest ...\n",
      "\n",
      "----------------------------------\n",
      "            ML model       &     R^2      &     RMSe     & |CV_error| & Spearman R coefficient  & Explained variance score  &   % test err \n",
      "----------------------------------\n",
      "Guassian Process Regressor | 0.50 +/- 0.17 | 0.72 +/- 0.11 | 0.89 | 0.78 +/- 0.06\n",
      "Support Vector Regression  | 0.48 +/- 0.14 | 0.73 +/- 0.10 | 0.71 | 0.76 +/- 0.06\n",
      "Gradient Boosted Trees     | 0.52 +/- 0.15 | 0.70 +/- 0.11 | 0.60 | 0.78 +/- 0.06\n",
      "Kernel Ridge Regression    | 0.65 +/- 0.06 | 0.62 +/- 0.06 | 0.57 | 0.81 +/- 0.04\n",
      "Random forest              | 0.56 +/- 0.15 | 0.67 +/- 0.12 | 0.55 | 0.79 +/- 0.06\n"
     ]
    }
   ],
   "source": [
    "mean_scores = {}\n",
    "percent_errors = {}\n",
    "\n",
    "rmses = {}\n",
    "rmseS = []\n",
    "\n",
    "r_squares = {}\n",
    "r_squareS = []\n",
    "\n",
    "spearmanRs = {}\n",
    "spearmanRS = []\n",
    "\n",
    "evss = {}\n",
    "\n",
    "epochs = 20\n",
    "\n",
    "for (name, model) in ml_models.items():\n",
    "    #print(model)\n",
    "    print(\"Running %s ...\" % name)\n",
    "    scores = cross_val_score(model, X, y, cv=20, n_jobs=-1, scoring='neg_mean_absolute_error')\n",
    "    scores = -1*scores\n",
    "    mean_score = scores.mean()\n",
    "    mean_scores[name] = mean_score\n",
    "\n",
    "    for epoch in range(epochs):\n",
    "        X_train, X_test, y_train, y_test = train_test_split(X, y, test_size=0.2)\n",
    "        model.fit(X_train, y_train)\n",
    "            \n",
    "        y_pred_train = model.predict(X_train)\n",
    "        y_pred_test  = model.predict(X_test)\n",
    "        \n",
    "        # R^2\n",
    "        r_square = r2_score(y_test, y_pred_test)\n",
    "        r_squareS.append(r_square)\n",
    "        \n",
    "        # Root Mean Square error\n",
    "        rmse = mean_squared_error(y_test, y_pred_test) ** 0.5\n",
    "        rmseS.append(rmse)\n",
    "        \n",
    "        # Spearman of prediction\n",
    "        spr = spearmanr(y_test, y_pred_test)\n",
    "        spearmanRS.append(spr[0])\n",
    "   \n",
    "    r_squares[name] = np.array(r_squareS)\n",
    "    \n",
    "    rmses[name] = np.array(rmseS)\n",
    "    \n",
    "    spearmanRs[name] = np.array(spearmanRS)\n",
    "    \n",
    "    #print(mean_scores[name], np.mean(r_squares[name]), np.std(r_squares[name]))\n",
    "    \n",
    "# Sorting models dictionary based on R square    \n",
    "sorted_names = sorted(mean_scores, key=mean_scores.__getitem__, reverse=True)\n",
    "\n",
    "print(\"\\n----------------------------------\")\n",
    "print(\"            ML model       &     R^2      &     RMSe     & |CV_error| & Spearman R coefficient  & Explained variance score  &   % test err \")\n",
    "print(\"----------------------------------\")\n",
    "for i in range(len(sorted_names)):\n",
    "    name = sorted_names[i]\n",
    "    #print(\"%25s | %5.3f | %5.3f | %5.3f | %5.3f | %5.3f | %5.3f \" % (name, r_squares[name], rmses[name], spearmanRs[name], evss[name], percent_errors[name], mean_scores[name]))\n",
    "    #print(\"%25s | %5.3f | %5.3f | %5.3f | %5.3f | %5.3f | %5.3f \" % (name, np.mean(r_squares[name]), rmses[name], mean_scores[name]))\n",
    "    print(f\"{name:26s} | {np.mean(r_squares[name]):4.2f} +/- {np.std(r_squares[name]):.2f} | {np.mean(rmses[name]):.2f} +/- {np.std(rmses[name]):.2f} | {mean_scores[name]:.2f} | {np.mean(spearmanRs[name]):.2f} +/- {np.std(spearmanRs[name]):.2f}\")"
   ]
  },
  {
   "cell_type": "markdown",
   "metadata": {},
   "source": [
    "### Results and  Discussion \n",
    "\n",
    "**ML model**| **R^2** | **RMSe** | **CV error** | **Spearman R coefficient** \n",
    ":-----:|:-----:|:-----:|:-----:|:-----:|\n",
    "Guassian Process Regressor | 0.50 +/- 0.17 | 0.72 +/- 0.11 | 0.89 | 0.78 +/- 0.06\n",
    "Support Vector Regression  | 0.48 +/- 0.14 | 0.73 +/- 0.10 | 0.71 | 0.76 +/- 0.06\n",
    "Gradient Boosted Trees     | 0.52 +/- 0.15 | 0.70 +/- 0.11 | 0.60 | 0.78 +/- 0.06\n",
    "Kernel Ridge Regression    | 0.65 +/- 0.06 | 0.62 +/- 0.06 | 0.57 | 0.81 +/- 0.04\n",
    "Random forest              | 0.56 +/- 0.15 | 0.67 +/- 0.12 | 0.55 | 0.79 +/- 0.06\n"
   ]
  },
  {
   "cell_type": "markdown",
   "metadata": {},
   "source": [
    "#### Using Kernel Ridge Regression to predict pIC50"
   ]
  },
  {
   "cell_type": "code",
   "execution_count": 15,
   "metadata": {},
   "outputs": [
    {
     "name": "stdout",
     "output_type": "stream",
     "text": [
      "The data set contains 33 compounds\n",
      "The data set contains 33 compounds\n"
     ]
    },
    {
     "name": "stderr",
     "output_type": "stream",
     "text": [
      "RDKit ERROR: [15:17:51] Explicit valence for atom # 21 C, 6, is greater than permitted\n",
      "RDKit ERROR: [15:17:51] Explicit valence for atom # 21 C, 6, is greater than permitted\n"
     ]
    },
    {
     "data": {
      "text/html": [
       "<div>\n",
       "<style scoped>\n",
       "    .dataframe tbody tr th:only-of-type {\n",
       "        vertical-align: middle;\n",
       "    }\n",
       "\n",
       "    .dataframe tbody tr th {\n",
       "        vertical-align: top;\n",
       "    }\n",
       "\n",
       "    .dataframe thead th {\n",
       "        text-align: right;\n",
       "    }\n",
       "</style>\n",
       "<table border=\"1\" class=\"dataframe\">\n",
       "  <thead>\n",
       "    <tr style=\"text-align: right;\">\n",
       "      <th></th>\n",
       "      <th>pIC50</th>\n",
       "      <th>Experimental (uM)</th>\n",
       "    </tr>\n",
       "  </thead>\n",
       "  <tbody>\n",
       "    <tr>\n",
       "      <th>1</th>\n",
       "      <td>5.580044</td>\n",
       "      <td>2.630</td>\n",
       "    </tr>\n",
       "    <tr>\n",
       "      <th>2</th>\n",
       "      <td>6.798603</td>\n",
       "      <td>0.159</td>\n",
       "    </tr>\n",
       "    <tr>\n",
       "      <th>3</th>\n",
       "      <td>6.050610</td>\n",
       "      <td>0.890</td>\n",
       "    </tr>\n",
       "    <tr>\n",
       "      <th>4</th>\n",
       "      <td>6.721246</td>\n",
       "      <td>0.190</td>\n",
       "    </tr>\n",
       "    <tr>\n",
       "      <th>5</th>\n",
       "      <td>7.026872</td>\n",
       "      <td>0.094</td>\n",
       "    </tr>\n",
       "  </tbody>\n",
       "</table>\n",
       "</div>"
      ],
      "text/plain": [
       "      pIC50  Experimental (uM)\n",
       "1  5.580044              2.630\n",
       "2  6.798603              0.159\n",
       "3  6.050610              0.890\n",
       "4  6.721246              0.190\n",
       "5  7.026872              0.094"
      ]
     },
     "execution_count": 15,
     "metadata": {},
     "output_type": "execute_result"
    }
   ],
   "source": [
    "# Predictions from Laksh\n",
    "\n",
    "data_pred = pd.read_csv('predictions_Laksh.csv', header=0)\n",
    "\n",
    "data_pred['Exscientia_predictions'] = data_pred['Exscientia_predictions'].astype(float)\n",
    "\n",
    "# Target values\n",
    "\n",
    "data_pred['ROMol'] = data_pred['SMILES'].apply(Chem.MolFromSmiles)\n",
    "\n",
    "# Remove molecules that could not be parsed from SMILES\n",
    "data_pred = data_pred[~data_pred.ROMol.isnull()]\n",
    "\n",
    "data_pred['pIC50'] = calc_pIC50(data_pred['Exscientia_predictions'])\n",
    "\n",
    "y_pred = data_pred['pIC50'].values\n",
    "print(f\"The data set contains {len(data_pred)} compounds\")\n",
    "\n",
    "\n",
    "# Validation set from OSM Malaria github\n",
    "\n",
    "data_val = pd.read_csv('validation_set.csv', header=0)\n",
    "data_val['ROMol'] = data_val['SMILES'].apply(Chem.MolFromSmiles)\n",
    "\n",
    "data_val = data_val[~data_val.ROMol.isnull()]\n",
    "\n",
    "data_val['pIC50'] = calc_pIC50(data_val['Experimental (uM)'])\n",
    "\n",
    "y_val = data_val['pIC50'].values\n",
    "print(f\"The data set contains {len(data_val)} compounds\")\n",
    "\n",
    "data_val[['pIC50', 'Experimental (uM)']].head()"
   ]
  },
  {
   "cell_type": "code",
   "execution_count": 16,
   "metadata": {},
   "outputs": [],
   "source": [
    "#PandasTools.FrameToGridImage(data_pred, molsPerRow=6, legendsCol='', maxMols=20)"
   ]
  },
  {
   "cell_type": "code",
   "execution_count": 24,
   "metadata": {},
   "outputs": [
    {
     "name": "stdout",
     "output_type": "stream",
     "text": [
      "0.4033526003879542 0.6112251759690746\n"
     ]
    },
    {
     "data": {
      "text/plain": [
       "<Figure size 432x288 with 0 Axes>"
      ]
     },
     "metadata": {},
     "output_type": "display_data"
    },
    {
     "data": {
      "image/png": "[encoded data removed]",
      "text/plain": [
       "<Figure size 576x432 with 1 Axes>"
      ]
     },
     "metadata": {
      "needs_background": "light"
     },
     "output_type": "display_data"
    }
   ],
   "source": [
    "data_pred['fp_Morgan'] = data_pred['ROMol'].apply(Morgan_fingerprint)\n",
    "\n",
    "X_pred = np.array(list(data_pred['fp_Morgan']))\n",
    "#print(X_pred.shape, y_pred.shape, X.shape, y.shape)\n",
    "\n",
    "data_val['fp_Morgan'] = data_val['ROMol'].apply(Morgan_fingerprint)\n",
    "\n",
    "X_val = np.array(list(data_val['fp_Morgan']))\n",
    "#print(X_val.shape, y_val.shape, X.shape, y.shape)\n",
    "\n",
    "Best_KernelRidge.fit(X, y)\n",
    "\n",
    "with open('b_kr.pkl', 'wb') as f:\n",
    "    pickle.dump(Best_KernelRidge, f)\n",
    "          \n",
    "y_pred_train = Best_KernelRidge.predict(X)\n",
    "#y_pred_pred = Best_KernelRidge.predict(X_pred)\n",
    "y_pred_val = Best_KernelRidge.predict(X_val)\n",
    "\n",
    "r_square = r2_score(y_val, y_pred_val)\n",
    "\n",
    "rmse = mean_squared_error(y_val, y_pred_val) ** 0.5\n",
    "print(r_square,rmse)\n",
    "# Call ploting function\n",
    "fulltitle = \"Kernel Ridge Regression\" + \"\\n\" + \"$R^{2}$ = \" + str(\"{:.2f}\".format(r_square)) + ',  RMSE = ' + str(\"{:.2f}\".format(rmse))\n",
    "plot_results(y_pred_train, y_pred_val, y, y_val, np.max(y), np.min(y), title=fulltitle, title1=name, figsize=(8,6))\n",
    "\n",
    "#r_square_2 = r2_score(y_val, data_val['logD_CXN'])\n",
    "#rmse_2 = mean_squared_error(y_val, data_val['logD_CXN']) ** 0.5#\n",
    "\n",
    "# Call ploting function\n",
    "#fulltitle = \"ChemAxon\" + \"\\n\" + \"$R^{2}$ = \" + str(\"{:.2f}\".format(r_square_2)) + ',  RMSE = ' + str(\"{:.2f}\".format(rmse_2))\n",
    "#plot_results(y_pred_train, data_val['logD_CXN'], y, y_val, np.max(y), np.min(y)-1, title=fulltitle, title1=name, figsize=(8,6))"
   ]
  },
  {
   "cell_type": "markdown",
   "metadata": {},
   "source": [
    "### Failed attempt with Pytorch"
   ]
  },
  {
   "cell_type": "markdown",
   "metadata": {},
   "source": [
    "Putting PyTorch into the mix!      \n",
    "Please ignore :)"
   ]
  },
  {
   "cell_type": "code",
   "execution_count": 12,
   "metadata": {},
   "outputs": [
    {
     "name": "stdout",
     "output_type": "stream",
     "text": [
      "torch.Size([40, 1024]) torch.Size([40])\n",
      "torch.Size([14, 1024]) torch.Size([14])\n"
     ]
    }
   ],
   "source": [
    "#Import libraries\n",
    "\n",
    "import pprint\n",
    "import argparse\n",
    "import torch\n",
    "import torch.optim as optim\n",
    "from torch import nn as nn\n",
    "import torch.nn.functional as F\n",
    "from torch.autograd import Variable\n",
    " \n",
    "from rdkit import Chem\n",
    "from rdkit.Chem import AllChem\n",
    "from rdkit.Chem import DataStructs\n",
    "import numpy as np\n",
    "\n",
    "X_train = torch.from_numpy(X[:40])\n",
    "X_test = torch.from_numpy(X[40:])\n",
    "Y_train = torch.from_numpy(y[0:40])\n",
    "Y_test = torch.from_numpy(y[40:])\n",
    "print(X_train.size(),Y_train.size())\n",
    "print(X_test.size(), Y_test.size())\n",
    " \n",
    "class QSAR_mlp(nn.Module):\n",
    "    def __init__(self):\n",
    "        super(QSAR_mlp, self).__init__()\n",
    "        self.fc1 = nn.Linear(2048, 524)\n",
    "        self.fc2 = nn.Linear(524, 10)\n",
    "        self.fc3 = nn.Linear(10, 10)\n",
    "        self.fc4 = nn.Linear(10,3)\n",
    "    def forward(self, x):\n",
    "        x = x.view(-1, 2048)\n",
    "        h1 = F.relu(self.fc1(x))\n",
    "        h2 = F.relu(self.fc2(h1))\n",
    "        h3 = F.relu(self.fc3(h2))\n",
    "        output = F.sigmoid(self.fc4(h3))\n",
    "        return output"
   ]
  },
  {
   "cell_type": "code",
   "execution_count": 16,
   "metadata": {},
   "outputs": [
    {
     "name": "stdout",
     "output_type": "stream",
     "text": [
      "QSAR_mlp(\n",
      "  (fc1): Linear(in_features=2048, out_features=524, bias=True)\n",
      "  (fc2): Linear(in_features=524, out_features=10, bias=True)\n",
      "  (fc3): Linear(in_features=10, out_features=10, bias=True)\n",
      "  (fc4): Linear(in_features=10, out_features=3, bias=True)\n",
      ")\n",
      "torch.Size([40, 1024]) torch.Size([40])\n"
     ]
    },
    {
     "ename": "ValueError",
     "evalue": "Expected input batch_size (20) to match target batch_size (40).",
     "output_type": "error",
     "traceback": [
      "\u001b[0;31m---------------------------------------------------------------------------\u001b[0m",
      "\u001b[0;31mValueError\u001b[0m                                Traceback (most recent call last)",
      "\u001b[0;32m<ipython-input-16-a8e3cc73edea>\u001b[0m in \u001b[0;36m<module>\u001b[0;34m\u001b[0m\n\u001b[1;32m     10\u001b[0m     \u001b[0moptimizer\u001b[0m\u001b[0;34m.\u001b[0m\u001b[0mzero_grad\u001b[0m\u001b[0;34m(\u001b[0m\u001b[0;34m)\u001b[0m\u001b[0;34m\u001b[0m\u001b[0;34m\u001b[0m\u001b[0m\n\u001b[1;32m     11\u001b[0m     \u001b[0my_pred\u001b[0m \u001b[0;34m=\u001b[0m \u001b[0mmodel\u001b[0m\u001b[0;34m(\u001b[0m\u001b[0mdata\u001b[0m\u001b[0;34m)\u001b[0m\u001b[0;34m\u001b[0m\u001b[0;34m\u001b[0m\u001b[0m\n\u001b[0;32m---> 12\u001b[0;31m     \u001b[0mloss\u001b[0m \u001b[0;34m=\u001b[0m \u001b[0mF\u001b[0m\u001b[0;34m.\u001b[0m\u001b[0mcross_entropy\u001b[0m\u001b[0;34m(\u001b[0m\u001b[0my_pred\u001b[0m\u001b[0;34m,\u001b[0m \u001b[0mtarget\u001b[0m\u001b[0;34m)\u001b[0m\u001b[0;34m\u001b[0m\u001b[0;34m\u001b[0m\u001b[0m\n\u001b[0m\u001b[1;32m     13\u001b[0m     \u001b[0mprint\u001b[0m\u001b[0;34m(\u001b[0m\u001b[0;34m\"Loss: {}\"\u001b[0m\u001b[0;34m.\u001b[0m\u001b[0mformat\u001b[0m\u001b[0;34m(\u001b[0m\u001b[0mloss\u001b[0m\u001b[0;34m.\u001b[0m\u001b[0mdata\u001b[0m\u001b[0;34m[\u001b[0m\u001b[0;36m0\u001b[0m\u001b[0;34m]\u001b[0m\u001b[0;34m)\u001b[0m\u001b[0;34m)\u001b[0m\u001b[0;34m\u001b[0m\u001b[0;34m\u001b[0m\u001b[0m\n\u001b[1;32m     14\u001b[0m     \u001b[0mloss\u001b[0m\u001b[0;34m.\u001b[0m\u001b[0mbackward\u001b[0m\u001b[0;34m(\u001b[0m\u001b[0;34m)\u001b[0m\u001b[0;34m\u001b[0m\u001b[0;34m\u001b[0m\u001b[0m\n",
      "\u001b[0;32m~/anaconda3/envs/rdkit-env/lib/python3.6/site-packages/torch/nn/functional.py\u001b[0m in \u001b[0;36mcross_entropy\u001b[0;34m(input, target, weight, size_average, ignore_index, reduce, reduction)\u001b[0m\n\u001b[1;32m   1548\u001b[0m     \u001b[0;32mif\u001b[0m \u001b[0msize_average\u001b[0m \u001b[0;32mis\u001b[0m \u001b[0;32mnot\u001b[0m \u001b[0;32mNone\u001b[0m \u001b[0;32mor\u001b[0m \u001b[0mreduce\u001b[0m \u001b[0;32mis\u001b[0m \u001b[0;32mnot\u001b[0m \u001b[0;32mNone\u001b[0m\u001b[0;34m:\u001b[0m\u001b[0;34m\u001b[0m\u001b[0;34m\u001b[0m\u001b[0m\n\u001b[1;32m   1549\u001b[0m         \u001b[0mreduction\u001b[0m \u001b[0;34m=\u001b[0m \u001b[0m_Reduction\u001b[0m\u001b[0;34m.\u001b[0m\u001b[0mlegacy_get_string\u001b[0m\u001b[0;34m(\u001b[0m\u001b[0msize_average\u001b[0m\u001b[0;34m,\u001b[0m \u001b[0mreduce\u001b[0m\u001b[0;34m)\u001b[0m\u001b[0;34m\u001b[0m\u001b[0;34m\u001b[0m\u001b[0m\n\u001b[0;32m-> 1550\u001b[0;31m     \u001b[0;32mreturn\u001b[0m \u001b[0mnll_loss\u001b[0m\u001b[0;34m(\u001b[0m\u001b[0mlog_softmax\u001b[0m\u001b[0;34m(\u001b[0m\u001b[0minput\u001b[0m\u001b[0;34m,\u001b[0m \u001b[0;36m1\u001b[0m\u001b[0;34m)\u001b[0m\u001b[0;34m,\u001b[0m \u001b[0mtarget\u001b[0m\u001b[0;34m,\u001b[0m \u001b[0mweight\u001b[0m\u001b[0;34m,\u001b[0m \u001b[0;32mNone\u001b[0m\u001b[0;34m,\u001b[0m \u001b[0mignore_index\u001b[0m\u001b[0;34m,\u001b[0m \u001b[0;32mNone\u001b[0m\u001b[0;34m,\u001b[0m \u001b[0mreduction\u001b[0m\u001b[0;34m)\u001b[0m\u001b[0;34m\u001b[0m\u001b[0;34m\u001b[0m\u001b[0m\n\u001b[0m\u001b[1;32m   1551\u001b[0m \u001b[0;34m\u001b[0m\u001b[0m\n\u001b[1;32m   1552\u001b[0m \u001b[0;34m\u001b[0m\u001b[0m\n",
      "\u001b[0;32m~/anaconda3/envs/rdkit-env/lib/python3.6/site-packages/torch/nn/functional.py\u001b[0m in \u001b[0;36mnll_loss\u001b[0;34m(input, target, weight, size_average, ignore_index, reduce, reduction)\u001b[0m\n\u001b[1;32m   1403\u001b[0m     \u001b[0;32mif\u001b[0m \u001b[0minput\u001b[0m\u001b[0;34m.\u001b[0m\u001b[0msize\u001b[0m\u001b[0;34m(\u001b[0m\u001b[0;36m0\u001b[0m\u001b[0;34m)\u001b[0m \u001b[0;34m!=\u001b[0m \u001b[0mtarget\u001b[0m\u001b[0;34m.\u001b[0m\u001b[0msize\u001b[0m\u001b[0;34m(\u001b[0m\u001b[0;36m0\u001b[0m\u001b[0;34m)\u001b[0m\u001b[0;34m:\u001b[0m\u001b[0;34m\u001b[0m\u001b[0;34m\u001b[0m\u001b[0m\n\u001b[1;32m   1404\u001b[0m         raise ValueError('Expected input batch_size ({}) to match target batch_size ({}).'\n\u001b[0;32m-> 1405\u001b[0;31m                          .format(input.size(0), target.size(0)))\n\u001b[0m\u001b[1;32m   1406\u001b[0m     \u001b[0;32mif\u001b[0m \u001b[0mdim\u001b[0m \u001b[0;34m==\u001b[0m \u001b[0;36m2\u001b[0m\u001b[0;34m:\u001b[0m\u001b[0;34m\u001b[0m\u001b[0;34m\u001b[0m\u001b[0m\n\u001b[1;32m   1407\u001b[0m         \u001b[0;32mreturn\u001b[0m \u001b[0mtorch\u001b[0m\u001b[0;34m.\u001b[0m\u001b[0m_C\u001b[0m\u001b[0;34m.\u001b[0m\u001b[0m_nn\u001b[0m\u001b[0;34m.\u001b[0m\u001b[0mnll_loss\u001b[0m\u001b[0;34m(\u001b[0m\u001b[0minput\u001b[0m\u001b[0;34m,\u001b[0m \u001b[0mtarget\u001b[0m\u001b[0;34m,\u001b[0m \u001b[0mweight\u001b[0m\u001b[0;34m,\u001b[0m \u001b[0m_Reduction\u001b[0m\u001b[0;34m.\u001b[0m\u001b[0mget_enum\u001b[0m\u001b[0;34m(\u001b[0m\u001b[0mreduction\u001b[0m\u001b[0;34m)\u001b[0m\u001b[0;34m,\u001b[0m \u001b[0mignore_index\u001b[0m\u001b[0;34m)\u001b[0m\u001b[0;34m\u001b[0m\u001b[0;34m\u001b[0m\u001b[0m\n",
      "\u001b[0;31mValueError\u001b[0m: Expected input batch_size (20) to match target batch_size (40)."
     ]
    }
   ],
   "source": [
    "model = QSAR_mlp()\n",
    "print(model)\n",
    "\n",
    "epochs = 5 \n",
    "losses = []\n",
    "optimizer = optim.Adam( model.parameters(), lr=0.005)\n",
    "for epoch in range(epochs):\n",
    "    data, target = Variable(X_train).float(), Variable(Y_train).float()\n",
    "    print(data.size(), target.size())\n",
    "    optimizer.zero_grad()\n",
    "    y_pred = model(data)\n",
    "    loss = F.cross_entropy(y_pred, target)\n",
    "    print(\"Loss: {}\".format(loss.data[0]))\n",
    "    loss.backward()\n",
    "    optimizer.step()\n",
    " \n",
    "pred_y = model(Variable(X_test).float())\n",
    "predicted = torch.max(pred_y, 1)[1]\n",
    " \n",
    "for i in range(len(predicted)):\n",
    "    print(\"pred:{}, target:{}\".format(predicted.data[i], Y_test[i]))\n",
    " \n",
    "print( \"Accuracy: {}\".format(sum(p==t for p,t in zip(predicted.data, Y_test))/len(Y_test)))"
   ]
  },
  {
   "cell_type": "code",
   "execution_count": 51,
   "metadata": {},
   "outputs": [
    {
     "name": "stdout",
     "output_type": "stream",
     "text": [
      "[1.17188835 1.59978104 1.30445671 2.19846153] (4,)\n"
     ]
    }
   ],
   "source": [
    "from rdkit import Chem, DataStructs\n",
    "from rdkit.Chem import AllChem\n",
    "from rdkit.Chem.AllChem import  GetMorganFingerprintAsBitVect\n",
    "import numpy as np\n",
    "import pickle\n",
    "import os\n",
    "\n",
    "# Morgan fingerprints, length 1024 bits\n",
    "def Morgan_fingerprint(mol):\n",
    "    fp = np.zeros((1,))\n",
    "    ConvertToNumpyArray(GetMorganFingerprintAsBitVect(mol, 2, nBits = 1024), fp)\n",
    "    return fp\n",
    "\n",
    "X = np.empty((0, 1024))\n",
    "\n",
    "suppl = Chem.SDMolSupplier('val_set4_cxn.sdf')\n",
    "for mol in suppl:\n",
    "    X = np.append(X, [Morgan_fingerprint(mol)], axis=0)\n",
    "\n",
    "if os.path.exists('b_kr.pkl'):\n",
    "    with open('b_kr.pkl', 'rb') as pred:\n",
    "        b_kr = pickle.load(pred)\n",
    "        \n",
    "y_pred = []\n",
    "y_pred = b_kr.predict(X)\n",
    "\n",
    "print(y_pred, y_pred.shape)"
   ]
  },
  {
   "cell_type": "code",
   "execution_count": null,
   "metadata": {},
   "outputs": [],
   "source": []
  }
 ],
 "metadata": {
  "kernelspec": {
   "display_name": "Python3 comptoir",
   "language": "python",
   "name": "comptoir"
  },
  "language_info": {
   "codemirror_mode": {
    "name": "ipython",
    "version": 3
   },
   "file_extension": ".py",
   "mimetype": "text/x-python",
   "name": "python",
   "nbconvert_exporter": "python",
   "pygments_lexer": "ipython3",
   "version": "3.6.8"
  }
 },
 "nbformat": 4,
 "nbformat_minor": 4
}
